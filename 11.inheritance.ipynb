{
 "cells": [
  {
   "cell_type": "code",
   "execution_count": 1,
   "metadata": {},
   "outputs": [
    {
     "name": "stdout",
     "output_type": "stream",
     "text": [
      "This is function one\n",
      "This is function two\n"
     ]
    }
   ],
   "source": [
    "#single inheritance\n",
    "class parent:\n",
    "    def func1(self):\n",
    "        print(\"This is function one\")\n",
    "class child(parent):\n",
    "    def func2(self):\n",
    "        print(\"This is function two\")\n",
    "ob=child()\n",
    "ob.func1()\n",
    "ob.func2()\n"
   ]
  },
  {
   "cell_type": "code",
   "execution_count": 2,
   "metadata": {},
   "outputs": [
    {
     "name": "stdout",
     "output_type": "stream",
     "text": [
      "This is function one\n",
      "This is function two\n",
      "This is function three\n"
     ]
    }
   ],
   "source": [
    "#multiple inheritance\n",
    "class parent:\n",
    "    def func1(self):\n",
    "        print(\"This is function one\")\n",
    "class parent2:\n",
    "    def func2(self):\n",
    "        print(\"This is function two\")\n",
    "class child(parent,parent2):\n",
    "    def func3(self):\n",
    "        print(\"This is function three\")\n",
    "ob=child()\n",
    "ob.func1()\n",
    "ob.func2()\n",
    "ob.func3()\n",
    "    "
   ]
  },
  {
   "cell_type": "code",
   "execution_count": 3,
   "metadata": {},
   "outputs": [
    {
     "name": "stdout",
     "output_type": "stream",
     "text": [
      "This is function one\n",
      "This is function two\n",
      "This is function three\n"
     ]
    }
   ],
   "source": [
    "#multilevel inheritance\n",
    "class parent:\n",
    "    def func1(self):\n",
    "        print(\"This is function one\")\n",
    "\n",
    "class child(parent):\n",
    "    def func2(self):\n",
    "        print(\"This is function two\")\n",
    "class child2(child):\n",
    "    def func3(self):\n",
    "        print(\"This is function three\")\n",
    "        \n",
    "ob=child2()\n",
    "ob.func1()\n",
    "ob.func2()\n",
    "ob.func3()"
   ]
  },
  {
   "cell_type": "code",
   "execution_count": 4,
   "metadata": {},
   "outputs": [
    {
     "name": "stdout",
     "output_type": "stream",
     "text": [
      "This is function one\n",
      "Thus is function two\n",
      "This is function three\n"
     ]
    }
   ],
   "source": [
    "#hierarical inheritance\n",
    "class parent:\n",
    "    def func1(self):\n",
    "        print(\"This is function one\")\n",
    "class child(parent):\n",
    "    def func2(self):\n",
    "        print(\"Thus is function two\")\n",
    "class child2(parent):\n",
    "    def func3(self):\n",
    "        print(\"This is function three\")\n",
    "ob=child()\n",
    "ob1=child2()\n",
    "ob.func1()\n",
    "ob.func2()\n",
    "ob1.func3()"
   ]
  },
  {
   "cell_type": "code",
   "execution_count": 5,
   "metadata": {},
   "outputs": [
    {
     "name": "stdout",
     "output_type": "stream",
     "text": [
      "Loyola College\n",
      "This function is in student 1. \n"
     ]
    }
   ],
   "source": [
    "#hybrid inheritance\n",
    "class College:\n",
    "    def func1(self):\n",
    "        print(\"Loyola College\")\n",
    "\n",
    "class Student1(College):\n",
    "    def func2(self):\n",
    "        print(\"This function is in student 1. \")\n",
    "\n",
    "class Student2(College):\n",
    "    def func3(self):\n",
    "        print(\"This function is in student 2.\")\n",
    "\n",
    "class Student3(Student1, College):\n",
    "    def func4(self):\n",
    "        print(\"This function is in student 3.\")\n",
    "\n",
    "ob=Student3()\n",
    "ob.func1()\n",
    "ob.func2()"
   ]
  },
  {
   "cell_type": "code",
   "execution_count": null,
   "metadata": {},
   "outputs": [],
   "source": []
  }
 ],
 "metadata": {
  "kernelspec": {
   "display_name": "Python 3",
   "language": "python",
   "name": "python3"
  },
  "language_info": {
   "codemirror_mode": {
    "name": "ipython",
    "version": 3
   },
   "file_extension": ".py",
   "mimetype": "text/x-python",
   "name": "python",
   "nbconvert_exporter": "python",
   "pygments_lexer": "ipython3",
   "version": "3.8.3"
  }
 },
 "nbformat": 4,
 "nbformat_minor": 4
}

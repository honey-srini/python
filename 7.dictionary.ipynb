{
 "cells": [
  {
   "cell_type": "code",
   "execution_count": 2,
   "metadata": {},
   "outputs": [
    {
     "name": "stdout",
     "output_type": "stream",
     "text": [
      "1 19-UCA-051 Srini 20-11-2000 9840778106\n",
      "2 19-UCA-050 Antony 16-01-2002 9876543210\n",
      "3 19-UCA-040 Mohan 04-01-2002 9876543210\n"
     ]
    }
   ],
   "source": [
    "dno={1:\"19-UCA-051\",2:\"19-UCA-050\",3:\"19-UCA-040\"}\n",
    "name={1:\"Srini\",2:\"Antony\",3:\"Mohan\"}\n",
    "dob={1:\"20-11-2000\",2:\"16-01-2002\",3:\"04-01-2002\"}\n",
    "contact={1:\"9840778106\",2:\"9876543210\",3:\"9876543210\"}\n",
    "\n",
    "for key in dno:\n",
    "    print(key,dno[key],name[key],dob[key],contact[key])\n"
   ]
  },
  {
   "cell_type": "code",
   "execution_count": null,
   "metadata": {},
   "outputs": [],
   "source": []
  }
 ],
 "metadata": {
  "kernelspec": {
   "display_name": "Python 3",
   "language": "python",
   "name": "python3"
  },
  "language_info": {
   "codemirror_mode": {
    "name": "ipython",
    "version": 3
   },
   "file_extension": ".py",
   "mimetype": "text/x-python",
   "name": "python",
   "nbconvert_exporter": "python",
   "pygments_lexer": "ipython3",
   "version": "3.8.3"
  }
 },
 "nbformat": 4,
 "nbformat_minor": 4
}

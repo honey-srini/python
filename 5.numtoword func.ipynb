{
 "cells": [
  {
   "cell_type": "code",
   "execution_count": 2,
   "metadata": {},
   "outputs": [
    {
     "name": "stdout",
     "output_type": "stream",
     "text": [
      "Enter a 3 digit num: 234\n",
      "two three four "
     ]
    }
   ],
   "source": [
    "def text_eq(x):\n",
    "    if x==0:\n",
    "        y=\"zero\"\n",
    "    elif x==1:\n",
    "        y=\"one\"\n",
    "    elif x==2:\n",
    "        y=\"two\"\n",
    "    elif x==3:\n",
    "        y=\"three\"\n",
    "    elif x==4:\n",
    "        y=\"four\"\n",
    "    elif x==5:\n",
    "        y=\"five\"\n",
    "    elif x==6:\n",
    "        y=\"six\"\n",
    "    elif x==7:\n",
    "        y=\"seven\"\n",
    "    elif x==8:\n",
    "        y=\"eight\"\n",
    "    else:\n",
    "        y=\"nine\"\n",
    "    return y\n",
    "\n",
    "i=int(input(\"Enter a 3 digit num: \"))\n",
    "\n",
    "d1=int(i/100)\n",
    "print(text_eq(d1), end=\" \")\n",
    "d2=int(i/10%10)\n",
    "print(text_eq(d2), end=\" \")\n",
    "d3=int(i%10)\n",
    "print(text_eq(d3), end=\" \")\n",
    "\n",
    "            "
   ]
  },
  {
   "cell_type": "code",
   "execution_count": null,
   "metadata": {},
   "outputs": [],
   "source": []
  }
 ],
 "metadata": {
  "kernelspec": {
   "display_name": "Python 3",
   "language": "python",
   "name": "python3"
  },
  "language_info": {
   "codemirror_mode": {
    "name": "ipython",
    "version": 3
   },
   "file_extension": ".py",
   "mimetype": "text/x-python",
   "name": "python",
   "nbconvert_exporter": "python",
   "pygments_lexer": "ipython3",
   "version": "3.8.3"
  }
 },
 "nbformat": 4,
 "nbformat_minor": 4
}

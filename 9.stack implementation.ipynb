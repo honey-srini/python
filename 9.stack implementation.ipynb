{
 "cells": [
  {
   "cell_type": "code",
   "execution_count": null,
   "metadata": {},
   "outputs": [
    {
     "name": "stdout",
     "output_type": "stream",
     "text": [
      "Enter your choice: [1]-Insert [2]-Delete [3]-Display1\n",
      "Enter any integer value: 20\n",
      "[20]\n",
      "Enter your choice: [1]-Insert [2]-Delete [3]-Display1\n",
      "Enter any integer value: 30\n",
      "[20, 30]\n",
      "Enter your choice: [1]-Insert [2]-Delete [3]-Display1\n",
      "Enter any integer value: 30\n",
      "[20, 30, 30]\n",
      "Enter your choice: [1]-Insert [2]-Delete [3]-Display2\n",
      "[20, 30]\n"
     ]
    }
   ],
   "source": [
    "#stack\n",
    "stack = []\n",
    "while(True):\n",
    "    x = int(input(\"Enter your choice: [1]-Insert [2]-Delete [3]-Display\"))\n",
    "    if(x==1):\n",
    "        v = int(input(\"Enter any integer value: \"))\n",
    "        stack.append(v)\n",
    "        print(stack)\n",
    "    elif(x==3):\n",
    "        print(stack)\n",
    "    elif x ==2 :\n",
    "        stack.pop()\n",
    "        print(stack)"
   ]
  },
  {
   "cell_type": "code",
   "execution_count": null,
   "metadata": {},
   "outputs": [
    {
     "name": "stdout",
     "output_type": "stream",
     "text": [
      "Enter your choice: [1]-Insert [2]-Delete [3]-Display1\n",
      "Enter any integer value: 10\n",
      "[10]\n",
      "Enter your choice: [1]-Insert [2]-Delete [3]-Display1\n",
      "Enter any integer value: 20\n",
      "[10, 20]\n",
      "Enter your choice: [1]-Insert [2]-Delete [3]-Display2\n",
      "[10]\n"
     ]
    }
   ],
   "source": [
    "\n",
    "import mymodule as m1\n",
    "m1.stack()"
   ]
  },
  {
   "cell_type": "code",
   "execution_count": null,
   "metadata": {},
   "outputs": [],
   "source": []
  }
 ],
 "metadata": {
  "kernelspec": {
   "display_name": "Python 3",
   "language": "python",
   "name": "python3"
  },
  "language_info": {
   "codemirror_mode": {
    "name": "ipython",
    "version": 3
   },
   "file_extension": ".py",
   "mimetype": "text/x-python",
   "name": "python",
   "nbconvert_exporter": "python",
   "pygments_lexer": "ipython3",
   "version": "3.8.3"
  }
 },
 "nbformat": 4,
 "nbformat_minor": 4
}

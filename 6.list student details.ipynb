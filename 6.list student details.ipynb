{
 "cells": [
  {
   "cell_type": "code",
   "execution_count": 1,
   "metadata": {},
   "outputs": [
    {
     "name": "stdout",
     "output_type": "stream",
     "text": [
      "Enter total number of students : 1\n",
      "Enter department number : 19-uca-051\n",
      "Enter name : srinivasan\n",
      "Enter date of birth : 20-11-2000\n",
      "Enter father's name : kumaresan\n",
      "Enter the score : 100\n",
      "['19-uca-051', 'srinivasan', '20-11-2000', 'srinivasan', 100]\n"
     ]
    }
   ],
   "source": [
    "#list append for students details\n",
    "a=[]\n",
    "n=int(input(\"Enter total number of students : \"))\n",
    "for i in range(0,n):\n",
    "    dno=input(\"Enter department number : \")\n",
    "    a.append(dno)\n",
    "    name=input(\"Enter name : \")\n",
    "    a.append(name)\n",
    "    dob=input(\"Enter date of birth : \")\n",
    "    a.append(dob)\n",
    "    fname=input(\"Enter father's name : \")\n",
    "    a.append(name)\n",
    "    score=int(input(\"Enter the score : \"))\n",
    "    a.append(score)\n",
    "print(a)"
   ]
  },
  {
   "cell_type": "code",
   "execution_count": null,
   "metadata": {},
   "outputs": [],
   "source": []
  }
 ],
 "metadata": {
  "kernelspec": {
   "display_name": "Python 3",
   "language": "python",
   "name": "python3"
  },
  "language_info": {
   "codemirror_mode": {
    "name": "ipython",
    "version": 3
   },
   "file_extension": ".py",
   "mimetype": "text/x-python",
   "name": "python",
   "nbconvert_exporter": "python",
   "pygments_lexer": "ipython3",
   "version": "3.8.3"
  }
 },
 "nbformat": 4,
 "nbformat_minor": 4
}

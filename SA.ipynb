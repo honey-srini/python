{
 "cells": [
  {
   "cell_type": "code",
   "execution_count": 14,
   "id": "3cb56d9b",
   "metadata": {},
   "outputs": [
    {
     "data": {
      "text/plain": [
       "30"
      ]
     },
     "execution_count": 14,
     "metadata": {},
     "output_type": "execute_result"
    }
   ],
   "source": [
    "class add:\n",
    "    def __init__(self,a,b):\n",
    "        self.a=a\n",
    "        self.b=b\n",
    "    def func1(self):\n",
    "        return self.a + self.b\n",
    "\n",
    "\n",
    "addition=add(10,20)\n",
    "addition.func1()"
   ]
  },
  {
   "cell_type": "code",
   "execution_count": 15,
   "id": "3eb7a40d",
   "metadata": {},
   "outputs": [
    {
     "name": "stdout",
     "output_type": "stream",
     "text": [
      "15\n"
     ]
    }
   ],
   "source": [
    "import functools\n",
    "\n",
    "my_list = [1, 2, 3, 4, 5]\n",
    "\n",
    "sum = functools.reduce(lambda x, y: x + y, my_list)\n",
    "\n",
    "print(sum)"
   ]
  },
  {
   "cell_type": "code",
   "execution_count": 6,
   "id": "f1832d22",
   "metadata": {},
   "outputs": [
    {
     "name": "stdout",
     "output_type": "stream",
     "text": [
      "The number is [2]\n",
      "None\n"
     ]
    }
   ],
   "source": [
    "def func(*n):\n",
    "    print(\"The number is\",[2])\n",
    "    return\n",
    "print(func(\"one\",\"two\",\"three\"))"
   ]
  },
  {
   "cell_type": "code",
   "execution_count": 8,
   "id": "db6ddfcd",
   "metadata": {},
   "outputs": [
    {
     "data": {
      "text/plain": [
       "'hello'"
      ]
     },
     "execution_count": 8,
     "metadata": {},
     "output_type": "execute_result"
    }
   ],
   "source": [
    "class greet:\n",
    "    \n",
    "    def hello():\n",
    "        return \"hello\"\n",
    "\n",
    "\n",
    "h=greet()\n",
    "h.hello()"
   ]
  },
  {
   "cell_type": "code",
   "execution_count": 11,
   "id": "d55ed0e8",
   "metadata": {},
   "outputs": [
    {
     "name": "stdout",
     "output_type": "stream",
     "text": [
      "100\n"
     ]
    }
   ],
   "source": [
    "# First product method.\n",
    "# Takes two argument and print their\n",
    "# product\n",
    "def product(a, b):\n",
    "\tp = a * b\n",
    "\tprint(p)\n",
    "\t\n",
    "# Second product method\n",
    "# Takes three argument and print their\n",
    "# product\n",
    "def product(a, b, c):\n",
    "\tp = a * b*c\n",
    "\tprint(p)\n",
    "\n",
    "# Uncommenting the below line shows an error\t\n",
    "# product(4, 5)\n",
    "\n",
    "# This line will call the second product method\n",
    "product(4, 5, 5)\n"
   ]
  },
  {
   "cell_type": "code",
   "execution_count": 13,
   "id": "0f1423d9",
   "metadata": {},
   "outputs": [
    {
     "name": "stdout",
     "output_type": "stream",
     "text": [
      "150\n"
     ]
    }
   ],
   "source": [
    "import numpy as np\n",
    "arr=np.array([10,20,30,40,50])\n",
    "sum=np.sum(arr)\n",
    "print(sum)"
   ]
  },
  {
   "cell_type": "code",
   "execution_count": 25,
   "id": "b15a53ca",
   "metadata": {},
   "outputs": [
    {
     "data": {
      "text/html": [
       "<div>\n",
       "<style scoped>\n",
       "    .dataframe tbody tr th:only-of-type {\n",
       "        vertical-align: middle;\n",
       "    }\n",
       "\n",
       "    .dataframe tbody tr th {\n",
       "        vertical-align: top;\n",
       "    }\n",
       "\n",
       "    .dataframe thead th {\n",
       "        text-align: right;\n",
       "    }\n",
       "</style>\n",
       "<table border=\"1\" class=\"dataframe\">\n",
       "  <thead>\n",
       "    <tr style=\"text-align: right;\">\n",
       "      <th></th>\n",
       "      <th>chennai</th>\n",
       "      <th>banglore</th>\n",
       "    </tr>\n",
       "    <tr>\n",
       "      <th>date</th>\n",
       "      <th></th>\n",
       "      <th></th>\n",
       "    </tr>\n",
       "  </thead>\n",
       "  <tbody>\n",
       "    <tr>\n",
       "      <th>2022-12-20</th>\n",
       "      <td>20</td>\n",
       "      <td>25</td>\n",
       "    </tr>\n",
       "    <tr>\n",
       "      <th>2022-12-21</th>\n",
       "      <td>30</td>\n",
       "      <td>35</td>\n",
       "    </tr>\n",
       "    <tr>\n",
       "      <th>2022-12-22</th>\n",
       "      <td>40</td>\n",
       "      <td>45</td>\n",
       "    </tr>\n",
       "    <tr>\n",
       "      <th>2022-12-23</th>\n",
       "      <td>45</td>\n",
       "      <td>50</td>\n",
       "    </tr>\n",
       "    <tr>\n",
       "      <th>2022-12-24</th>\n",
       "      <td>50</td>\n",
       "      <td>55</td>\n",
       "    </tr>\n",
       "  </tbody>\n",
       "</table>\n",
       "</div>"
      ],
      "text/plain": [
       "            chennai  banglore\n",
       "date                         \n",
       "2022-12-20       20        25\n",
       "2022-12-21       30        35\n",
       "2022-12-22       40        45\n",
       "2022-12-23       45        50\n",
       "2022-12-24       50        55"
      ]
     },
     "metadata": {},
     "output_type": "display_data"
    },
    {
     "data": {
      "text/plain": [
       "[<matplotlib.lines.Line2D at 0x1f795e7d280>]"
      ]
     },
     "execution_count": 25,
     "metadata": {},
     "output_type": "execute_result"
    },
    {
     "data": {
      "image/png": "[encoded data removed]",
      "text/plain": [
       "<Figure size 432x288 with 1 Axes>"
      ]
     },
     "metadata": {
      "needs_background": "light"
     },
     "output_type": "display_data"
    }
   ],
   "source": [
    "import pandas as pd\n",
    "import matplotlib.pyplot as plt\n",
    "data={'date':['2022-12-20','2022-12-21','2022-12-22','2022-12-23','2022-12-24']\n",
    "     ,'chennai':[20,30,40,45,50],'banglore':[25,35,45,50,55]}\n",
    "df=pd.DataFrame(data)\n",
    "df[\"date\"]=df[\"date\"].astype(\"datetime64\")\n",
    "df=df.set_index(\"date\")\n",
    "display(df)\n",
    "plt.plot(df['chennai'],marker='o')"
   ]
  },
  {
   "cell_type": "code",
   "execution_count": null,
   "id": "043328d1",
   "metadata": {},
   "outputs": [],
   "source": []
  }
 ],
 "metadata": {
  "kernelspec": {
   "display_name": "Python 3 (ipykernel)",
   "language": "python",
   "name": "python3"
  },
  "language_info": {
   "codemirror_mode": {
    "name": "ipython",
    "version": 3
   },
   "file_extension": ".py",
   "mimetype": "text/x-python",
   "name": "python",
   "nbconvert_exporter": "python",
   "pygments_lexer": "ipython3",
   "version": "3.9.7"
  }
 },
 "nbformat": 4,
 "nbformat_minor": 5
}

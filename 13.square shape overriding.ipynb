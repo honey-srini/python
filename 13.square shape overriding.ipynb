{
 "cells": [
  {
   "cell_type": "code",
   "execution_count": 1,
   "metadata": {},
   "outputs": [
    {
     "name": "stdout",
     "output_type": "stream",
     "text": [
      "I have 4 sides , I am from shape class\n",
      "i am a 2d object. I am from shape class\n",
      "I have teal color , I am from square class\n"
     ]
    }
   ],
   "source": [
    "class shape:\n",
    "    data1=\"abc\"\n",
    "    def no_of_sides(self):\n",
    "        print(\"My sides need to be defined , I am first shape class.\")\n",
    "    def two_dimentional(self):\n",
    "        print(\"i am a 2d object. I am from shape class\")\n",
    "        \n",
    "class square(shape):\n",
    "    data2=\"xyz\"\n",
    "    def no_of_sides(self):\n",
    "        print(\"I have 4 sides , I am from shape class\")\n",
    "    def color(self):\n",
    "        print(\"I have teal color , I am from square class\")\n",
    "        \n",
    "sq=square()\n",
    "sq.no_of_sides()\n",
    "sq.two_dimentional()\n",
    "sq.color()"
   ]
  },
  {
   "cell_type": "code",
   "execution_count": null,
   "metadata": {},
   "outputs": [],
   "source": []
  }
 ],
 "metadata": {
  "kernelspec": {
   "display_name": "Python 3",
   "language": "python",
   "name": "python3"
  },
  "language_info": {
   "codemirror_mode": {
    "name": "ipython",
    "version": 3
   },
   "file_extension": ".py",
   "mimetype": "text/x-python",
   "name": "python",
   "nbconvert_exporter": "python",
   "pygments_lexer": "ipython3",
   "version": "3.8.3"
  }
 },
 "nbformat": 4,
 "nbformat_minor": 4
}

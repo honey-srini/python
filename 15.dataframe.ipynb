{
 "cells": [
  {
   "cell_type": "code",
   "execution_count": 10,
   "metadata": {},
   "outputs": [
    {
     "name": "stdout",
     "output_type": "stream",
     "text": [
      "       Name Qualification         Address sales\n",
      "0     srini           BCA         Chennai   90%\n",
      "1    antony           BCA  vartharajpetai   80%\n",
      "2     mohan           BCA         Chennai   85%\n",
      "3  benjimen           BCA         chennai   85%\n"
     ]
    },
    {
     "data": {
      "text/html": [
       "<div>\n",
       "<style scoped>\n",
       "    .dataframe tbody tr th:only-of-type {\n",
       "        vertical-align: middle;\n",
       "    }\n",
       "\n",
       "    .dataframe tbody tr th {\n",
       "        vertical-align: top;\n",
       "    }\n",
       "\n",
       "    .dataframe thead th {\n",
       "        text-align: right;\n",
       "    }\n",
       "</style>\n",
       "<table border=\"1\" class=\"dataframe\">\n",
       "  <thead>\n",
       "    <tr style=\"text-align: right;\">\n",
       "      <th></th>\n",
       "      <th>Name</th>\n",
       "      <th>Age</th>\n",
       "      <th>Address</th>\n",
       "      <th>Qualification</th>\n",
       "      <th>sales</th>\n",
       "    </tr>\n",
       "  </thead>\n",
       "  <tbody>\n",
       "    <tr>\n",
       "      <th>0</th>\n",
       "      <td>srini</td>\n",
       "      <td>21</td>\n",
       "      <td>Chennai</td>\n",
       "      <td>BCA</td>\n",
       "      <td>90%</td>\n",
       "    </tr>\n",
       "    <tr>\n",
       "      <th>1</th>\n",
       "      <td>antony</td>\n",
       "      <td>20</td>\n",
       "      <td>vartharajpetai</td>\n",
       "      <td>BCA</td>\n",
       "      <td>80%</td>\n",
       "    </tr>\n",
       "    <tr>\n",
       "      <th>2</th>\n",
       "      <td>mohan</td>\n",
       "      <td>20</td>\n",
       "      <td>Chennai</td>\n",
       "      <td>BCA</td>\n",
       "      <td>85%</td>\n",
       "    </tr>\n",
       "    <tr>\n",
       "      <th>3</th>\n",
       "      <td>benjimen</td>\n",
       "      <td>20</td>\n",
       "      <td>chennai</td>\n",
       "      <td>BCA</td>\n",
       "      <td>85%</td>\n",
       "    </tr>\n",
       "  </tbody>\n",
       "</table>\n",
       "</div>"
      ],
      "text/plain": [
       "       Name  Age         Address Qualification sales\n",
       "0     srini   21         Chennai           BCA   90%\n",
       "1    antony   20  vartharajpetai           BCA   80%\n",
       "2     mohan   20         Chennai           BCA   85%\n",
       "3  benjimen   20         chennai           BCA   85%"
      ]
     },
     "execution_count": 10,
     "metadata": {},
     "output_type": "execute_result"
    }
   ],
   "source": [
    "#Pandas DataFrame\n",
    "import pandas as pd\n",
    "data = {'Name':['srini', 'antony', 'mohan', 'benjimen'],\n",
    "        'Age':[21, 20, 20, 20],\n",
    "        'Address':['Chennai', 'vartharajpetai', 'Chennai', 'chennai'],\n",
    "        'Qualification':['BCA', 'BCA', 'BCA', 'BCA'],\n",
    "        'sales':['90%','80%','85%','85%']}\n",
    " \n",
    "# Convert the dictionary into DataFrame \n",
    "df = pd.DataFrame(data)\n",
    " \n",
    "# select two columns\n",
    "print(df[['Name','Qualification', 'Address','sales']])\n",
    "df"
   ]
  },
  {
   "cell_type": "code",
   "execution_count": null,
   "metadata": {},
   "outputs": [],
   "source": []
  }
 ],
 "metadata": {
  "kernelspec": {
   "display_name": "Python 3",
   "language": "python",
   "name": "python3"
  },
  "language_info": {
   "codemirror_mode": {
    "name": "ipython",
    "version": 3
   },
   "file_extension": ".py",
   "mimetype": "text/x-python",
   "name": "python",
   "nbconvert_exporter": "python",
   "pygments_lexer": "ipython3",
   "version": "3.8.3"
  }
 },
 "nbformat": 4,
 "nbformat_minor": 4
}

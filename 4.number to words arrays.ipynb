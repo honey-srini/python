{
 "cells": [
  {
   "cell_type": "code",
   "execution_count": 1,
   "metadata": {},
   "outputs": [
    {
     "name": "stdout",
     "output_type": "stream",
     "text": [
      "Enter a 3 digit number:234\n",
      "two\n",
      "three\n",
      "four\n"
     ]
    }
   ],
   "source": [
    "from array import array\n",
    "a=array('i',range(3))\n",
    "x=int(input(\"Enter a 3 digit number:\"))\n",
    "a[0]=int(x/100)\n",
    "a[1]=int(x/10)%10\n",
    "a[2]=int(x%10)\n",
    "for i in range(0,len(a)):\n",
    "    if a[i]==0:\n",
    "     print(\"zero\")\n",
    "    elif a[i]==1:\n",
    "     print(\"one\")\n",
    "    elif a[i]==2:\n",
    "     print(\"two\")\n",
    "    elif a[i]==3:\n",
    "     print(\"three\")\n",
    "    elif a[i]==4:\n",
    "     print(\"four\")\n",
    "    elif a[i]==5:\n",
    "     print(\"five\")\n",
    "    elif a[i]==6:\n",
    "     print(\"six\")\n",
    "    elif a[i]==7:\n",
    "     print(\"seven\")\n",
    "    elif a[i]==8:\n",
    "     print(\"eight\")\n",
    "    else:\n",
    "     print(\"nine\")\n",
    "\n",
    "\n"
   ]
  },
  {
   "cell_type": "code",
   "execution_count": null,
   "metadata": {},
   "outputs": [],
   "source": []
  }
 ],
 "metadata": {
  "kernelspec": {
   "display_name": "Python 3",
   "language": "python",
   "name": "python3"
  },
  "language_info": {
   "codemirror_mode": {
    "name": "ipython",
    "version": 3
   },
   "file_extension": ".py",
   "mimetype": "text/x-python",
   "name": "python",
   "nbconvert_exporter": "python",
   "pygments_lexer": "ipython3",
   "version": "3.8.3"
  }
 },
 "nbformat": 4,
 "nbformat_minor": 4
}

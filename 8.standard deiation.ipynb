{
 "cells": [
  {
   "cell_type": "code",
   "execution_count": 9,
   "metadata": {},
   "outputs": [
    {
     "name": "stdout",
     "output_type": "stream",
     "text": [
      "Enter the number of values : 3\n",
      "Enter the weight : 89\n",
      "[89]\n",
      "Enter the weight : 87\n",
      "[89, 87]\n",
      "Enter the weight : 90\n",
      "[89, 87, 90]\n",
      "The standard deviation is :  2.0\n"
     ]
    }
   ],
   "source": [
    "#standard deviation using list\n",
    "import math\n",
    "n=int(input(\"Enter the number of values : \"))\n",
    "weight=[]\n",
    "s=0\n",
    "for i in range (n):\n",
    "    w=int(input(\"Enter the weight : \"))\n",
    "    weight.append(w)\n",
    "    s=s+w\n",
    "    print(weight)\n",
    "average=int(s/n)\n",
    "d=0\n",
    "for i in range(n):\n",
    "    d=(weight[i]-average)*(weight[i]-average)\n",
    "sd=math.sqrt(d)\n",
    "print(\"The standard deviation is : \",sd)"
   ]
  },
  {
   "cell_type": "code",
   "execution_count": null,
   "metadata": {},
   "outputs": [],
   "source": []
  }
 ],
 "metadata": {
  "kernelspec": {
   "display_name": "Python 3",
   "language": "python",
   "name": "python3"
  },
  "language_info": {
   "codemirror_mode": {
    "name": "ipython",
    "version": 3
   },
   "file_extension": ".py",
   "mimetype": "text/x-python",
   "name": "python",
   "nbconvert_exporter": "python",
   "pygments_lexer": "ipython3",
   "version": "3.8.3"
  }
 },
 "nbformat": 4,
 "nbformat_minor": 4
}

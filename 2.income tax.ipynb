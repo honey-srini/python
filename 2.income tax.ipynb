{
 "cells": [
  {
   "cell_type": "code",
   "execution_count": 2,
   "metadata": {},
   "outputs": [
    {
     "name": "stdout",
     "output_type": "stream",
     "text": [
      "Enter the income :300000\n",
      "10000.0\n"
     ]
    }
   ],
   "source": [
    "#nested if to find incometax\n",
    "income=int(input(\"Enter the income :\"))\n",
    "if(income<200000):\n",
    " print(\"No income tax\")\n",
    "elif(income>200000 and income<400000):\n",
    " tax=(income-200000)*0.1\n",
    " print(tax)\n",
    "elif(income>400000 and income<600000):\n",
    " tax=(20000+income-200000)*0.2\n",
    " print(tax)\n",
    "elif(income>600000):\n",
    " tax=(20000+40000+income-600000)*0.3\n",
    " print(tax)"
   ]
  },
  {
   "cell_type": "code",
   "execution_count": null,
   "metadata": {},
   "outputs": [],
   "source": []
  },
  {
   "cell_type": "code",
   "execution_count": null,
   "metadata": {},
   "outputs": [],
   "source": []
  }
 ],
 "metadata": {
  "kernelspec": {
   "display_name": "Python 3",
   "language": "python",
   "name": "python3"
  },
  "language_info": {
   "codemirror_mode": {
    "name": "ipython",
    "version": 3
   },
   "file_extension": ".py",
   "mimetype": "text/x-python",
   "name": "python",
   "nbconvert_exporter": "python",
   "pygments_lexer": "ipython3",
   "version": "3.8.3"
  }
 },
 "nbformat": 4,
 "nbformat_minor": 4
}

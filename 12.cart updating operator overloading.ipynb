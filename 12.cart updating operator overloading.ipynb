{
 "cells": [
  {
   "cell_type": "code",
   "execution_count": 5,
   "metadata": {},
   "outputs": [
    {
     "name": "stdout",
     "output_type": "stream",
     "text": [
      "['banana', 'apple', 'orange', 'mango']\n"
     ]
    }
   ],
   "source": [
    "class Order:\n",
    "     def __init__(self, cart, customer):\n",
    "         self.cart = list(cart)\n",
    "         self.customer = customer\n",
    "\n",
    "     def __add__(self, other):\n",
    "         new_cart = self.cart.copy()\n",
    "         new_cart.append(other)\n",
    "         return Order(new_cart, self.customer)\n",
    "        \n",
    "order = Order(['banana', 'apple','orange'], 'srini')\n",
    "order=order+'mango'\n",
    "print(order.cart)"
   ]
  },
  {
   "cell_type": "code",
   "execution_count": 2,
   "metadata": {},
   "outputs": [
    {
     "data": {
      "text/plain": [
       "['banana', 'apple', 'orange']"
      ]
     },
     "execution_count": 2,
     "metadata": {},
     "output_type": "execute_result"
    }
   ],
   "source": [
    "class Order:\n",
    "     def __init__(self, cart, customer):\n",
    "         self.cart = list(cart)\n",
    "         self.customer = customer\n",
    "\n",
    "     def __add__(self,other):\n",
    "         new_cart = self.cart.copy()\n",
    "         new_cart.append(other)\n",
    "         return Order(new_cart, self.customer)\n",
    "order = Order(['banana', 'apple'], 'srini')\n",
    "order=order+'orange'\n",
    "order.cart\n"
   ]
  },
  {
   "cell_type": "code",
   "execution_count": null,
   "metadata": {},
   "outputs": [],
   "source": []
  }
 ],
 "metadata": {
  "kernelspec": {
   "display_name": "Python 3",
   "language": "python",
   "name": "python3"
  },
  "language_info": {
   "codemirror_mode": {
    "name": "ipython",
    "version": 3
   },
   "file_extension": ".py",
   "mimetype": "text/x-python",
   "name": "python",
   "nbconvert_exporter": "python",
   "pygments_lexer": "ipython3",
   "version": "3.8.3"
  }
 },
 "nbformat": 4,
 "nbformat_minor": 4
}

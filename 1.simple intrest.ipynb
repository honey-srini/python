{
 "cells": [
  {
   "cell_type": "code",
   "execution_count": 2,
   "metadata": {},
   "outputs": [
    {
     "name": "stdout",
     "output_type": "stream",
     "text": [
      "Enter the principal amount P:20000\n",
      "Enter the number of years N:2\n",
      "Enter the rate of intrest R:10\n",
      "The simple intrest of the given data is : 4000\n"
     ]
    }
   ],
   "source": [
    "#program to find simple intrest\n",
    "p=int(input(\"Enter the principal amount P:\"))\n",
    "n=int(input(\"Enter the number of years N:\"))\n",
    "r=float(input(\"Enter the rate of intrest R:\"))\n",
    "SI=p*r*n/100\n",
    "print(\"The simple intrest of the given data is :\",int(SI))"
   ]
  },
  {
   "cell_type": "code",
   "execution_count": null,
   "metadata": {},
   "outputs": [],
   "source": []
  }
 ],
 "metadata": {
  "kernelspec": {
   "display_name": "Python 3",
   "language": "python",
   "name": "python3"
  },
  "language_info": {
   "codemirror_mode": {
    "name": "ipython",
    "version": 3
   },
   "file_extension": ".py",
   "mimetype": "text/x-python",
   "name": "python",
   "nbconvert_exporter": "python",
   "pygments_lexer": "ipython3",
   "version": "3.8.3"
  }
 },
 "nbformat": 4,
 "nbformat_minor": 4
}

{
 "cells": [
  {
   "cell_type": "code",
   "execution_count": 7,
   "metadata": {},
   "outputs": [
    {
     "name": "stdout",
     "output_type": "stream",
     "text": [
      "21 YEARS\n"
     ]
    }
   ],
   "source": [
    "#agecalculator\n",
    "def ageCalculator(y, m, d):\n",
    "    import datetime\n",
    "    today = datetime.datetime.now().date()\n",
    "    dob = datetime.date(y, m, d)\n",
    "    age = int((today-dob).days / 365)\n",
    "    print(age ,\"YEARS\" )\n",
    "   \n",
    "ageCalculator(2000, 11, 20) "
   ]
  },
  {
   "cell_type": "code",
   "execution_count": 1,
   "metadata": {},
   "outputs": [
    {
     "name": "stdout",
     "output_type": "stream",
     "text": [
      "21\n"
     ]
    }
   ],
   "source": [
    "from datetime import date\n",
    "\n",
    "class Time:\n",
    "    def __init__(self, date):\n",
    "        self.time = date\n",
    "\n",
    "    def age(self):\n",
    "        today = date.today()\n",
    "        date_this_year = date(today.year, self.time.month, self.time.day)\n",
    "        return today.year - self.time.year - (date_this_year > today)\n",
    "\n",
    "time = Time(date(2000,11,20))\n",
    "print(time.age())"
   ]
  },
  {
   "cell_type": "code",
   "execution_count": null,
   "metadata": {},
   "outputs": [],
   "source": []
  }
 ],
 "metadata": {
  "kernelspec": {
   "display_name": "Python 3",
   "language": "python",
   "name": "python3"
  },
  "language_info": {
   "codemirror_mode": {
    "name": "ipython",
    "version": 3
   },
   "file_extension": ".py",
   "mimetype": "text/x-python",
   "name": "python",
   "nbconvert_exporter": "python",
   "pygments_lexer": "ipython3",
   "version": "3.8.3"
  }
 },
 "nbformat": 4,
 "nbformat_minor": 4
}
